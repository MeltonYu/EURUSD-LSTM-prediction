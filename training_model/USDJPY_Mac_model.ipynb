{
 "cells": [
  {
   "cell_type": "code",
   "execution_count": 1,
   "metadata": {},
   "outputs": [
    {
     "name": "stdout",
     "output_type": "stream",
     "text": [
      "/home/yuki/quant_project/EURUSD-LSTM-prediction\n"
     ]
    }
   ],
   "source": [
    "import sys\n",
    "import os\n",
    "\n",
    "# Get the current working directory\n",
    "current_dir = os.getcwd()\n",
    "\n",
    "# Navigate to the parent directory\n",
    "parent_dir = os.path.dirname(current_dir)\n",
    "\n",
    "# Append the parent directory to sys.path\n",
    "sys.path.append(parent_dir)\n",
    "\n",
    "# Verify that the parent directory was added\n",
    "print(sys.path[-1])"
   ]
  },
  {
   "cell_type": "code",
   "execution_count": 2,
   "metadata": {},
   "outputs": [
    {
     "data": {
      "text/plain": [
       "Index(['Dates', 'PX_OPEN', 'PX_HIGH', 'PX_LOW', 'PX_LAST', 'USDJPYV1W Curncy',\n",
       "       'USDJPYV1M Curncy', 'USDJPYV1Y Curncy', 'USDJPYVON Curncy',\n",
       "       'JPYON Curncy', 'JPY1M Curncy', 'JPY12M Curncy', 'DXY Curncy',\n",
       "       'GOLDS Comdty', 'CL1 Comdty', 'FEDL01 Index', 'USGG2YR Index',\n",
       "       'USGG10YR Index', 'USGG30YR Index', 'GJGB2 Index', 'GJGB10 Index',\n",
       "       'GJGB30 Index', 'SPX Index', 'VIX Index', 'NKY Index', 'Last_Return',\n",
       "       'Predict_Return'],\n",
       "      dtype='object')"
      ]
     },
     "execution_count": 2,
     "metadata": {},
     "output_type": "execute_result"
    }
   ],
   "source": [
    "import numpy as np\n",
    "import pandas as pd\n",
    "import torch\n",
    "import torch.nn as nn\n",
    "from sklearn.model_selection import train_test_split\n",
    "from sklearn.preprocessing import StandardScaler\n",
    "from data_processing import *\n",
    "import seaborn\n",
    "\n",
    "return_test_day = [1,3,5]\n",
    "prediction_parameters_dic = {\"Forecast period\":1, \"time_rolling_window\":22}\n",
    "\n",
    "\n",
    "df_Macro = pd.read_csv(\"../Data/USDJPY_Macro.csv\")\n",
    "df_Macro[\"Last_Return\"] =((df_Macro[\"PX_LAST\"].pct_change(periods=prediction_parameters_dic[\"Forecast period\"]))\n",
    "                          )\n",
    "\n",
    "df_Macro[\"Predict_Return\"] = ((df_Macro[\"PX_LAST\"].pct_change(periods=prediction_parameters_dic[\"Forecast period\"])\n",
    "                      .dropna(ignore_index = True)))\n",
    "\n",
    "df_Macro.dropna(inplace=True)\n",
    "df_Macro.drop(columns=['CPI YOY Index','JNCPIYOY Index'],inplace=True)\n",
    "\n",
    "df_Macro.columns"
   ]
  },
  {
   "cell_type": "code",
   "execution_count": 3,
   "metadata": {},
   "outputs": [
    {
     "name": "stdout",
     "output_type": "stream",
     "text": [
      "0.001908\n"
     ]
    }
   ],
   "source": [
    "split_point = int(df_Macro.shape[0]*0.9)\n",
    "df_train = df_Macro.iloc[:split_point,:]\n",
    "df_test = df_Macro.iloc[split_point:,:]\n",
    "\n",
    "x_train = df_train.drop(columns=[\"Dates\",\"Predict_Return\"]).to_numpy()\n",
    "y_train = df_train.loc[:, \"Predict_Return\"].to_numpy()\n",
    "\n",
    "x_test = df_test.drop(columns=[\"Dates\",\"Predict_Return\"]).to_numpy()\n",
    "y_test = df_test.loc[:, \"Predict_Return\"].to_numpy()\n",
    "\n",
    "scale_x = StandardScaler()\n",
    "\n",
    "x_train_norm = scale_x.fit_transform(x_train)\n",
    "x_test_norm = scale_x.transform(x_test)\n",
    "\n",
    "time_delta = prediction_parameters_dic[\"time_rolling_window\"]\n",
    "x_train_norm_rolling,x_test_norm_rolling = rolling_split(x_train_norm,time_delta),rolling_split(x_test_norm,time_delta)\n",
    "y_train_rolling,y_test_rolling = y_train[time_delta-1:,...],y_test[time_delta-1:,...]\n",
    "\n",
    "threshold = threshold_search(y_train,1e-6)\n",
    "\n",
    "print(threshold)\n",
    "\n",
    "# You can set this threshold manually\n",
    "# threshold = 0.002"
   ]
  },
  {
   "cell_type": "code",
   "execution_count": 4,
   "metadata": {},
   "outputs": [
    {
     "name": "stdout",
     "output_type": "stream",
     "text": [
      "183\n",
      "186\n",
      "251\n"
     ]
    }
   ],
   "source": [
    "y_train_rolling_label , y_test_rolling_label  = labelize(y_train_rolling,threshold),labelize(y_test_rolling,threshold) \n",
    "\n",
    "train_set = torch.utils.data.TensorDataset(torch.from_numpy(x_train_norm_rolling),torch.from_numpy(y_train_rolling_label).to(torch.int64))\n",
    "\n",
    "test_set = torch.utils.data.TensorDataset(torch.from_numpy(x_test_norm_rolling),torch.from_numpy(y_test_rolling_label).to(torch.int64))\n",
    "\n",
    "train_loader = torch.utils.data.DataLoader(train_set,batch_size=32,shuffle=True)\n",
    "\n",
    "real_results = test_set[:][1]\n",
    "\n",
    "print(len(real_results[real_results==0]))\n",
    "print(len(real_results[real_results==1]))\n",
    "print(len(real_results[real_results==2]))"
   ]
  },
  {
   "cell_type": "code",
   "execution_count": 5,
   "metadata": {},
   "outputs": [
    {
     "name": "stderr",
     "output_type": "stream",
     "text": [
      "/home/yuki/miniconda3/envs/initial/lib/python3.12/site-packages/torch/nn/modules/rnn.py:83: UserWarning: dropout option adds dropout after all but last recurrent layer, so non-zero dropout expects num_layers greater than 1, but got dropout=0.5 and num_layers=1\n",
      "  warnings.warn(\"dropout option adds dropout after all but last \"\n"
     ]
    }
   ],
   "source": [
    "import time_net\n",
    "\n",
    "hyperparas = {'input_dim':x_train.shape[-1],'hidden_dim':32,'hidden_nums':2,'output_dim':3,'block_layer_nums':2, 'LSTM_layer_nums':1\n",
    "        , 'dropout_rate':0.5}\n",
    "\n",
    "net_test = time_net.LSTM_Net(hyperparas=hyperparas)\n",
    "\n",
    "device = torch.device('cuda')\n",
    "\n",
    "net_test.to(device=device,dtype=torch.float64)\n",
    "loss = nn.CrossEntropyLoss()\n",
    "\n",
    "def train_epoch(loss_function, optimizer, model, loader,train_data,test_data):\n",
    "  loss_train = 0\n",
    "  loss_test = 0\n",
    "  \n",
    "  for(i, (x, y)) in enumerate(loader):\n",
    "    # Clear the gradients\n",
    "    optimizer.zero_grad()\n",
    "    \n",
    "    x=x.to(device=device)\n",
    "    y=y.to(device=device)\n",
    "    # Run a forward pass\n",
    "    outputs = model.forward(x)\n",
    "    # Compute the batch loss\n",
    "    loss = loss_function(outputs,y)\n",
    "    # Calculate the gradients\n",
    "    loss.backward()\n",
    "    # Update the parameteres\n",
    "    optimizer.step()\n",
    "\n",
    "    \n",
    "  with torch.no_grad():\n",
    "    train_outputs = model.forward(train_data[:][0].to(device=device))\n",
    "    train_loss = loss_function(train_outputs,train_data[:][1].to(device=device))\n",
    "    loss_train = train_loss.detach().cpu()\n",
    "    print(f\"train loss is {train_loss}\")\n",
    "    \n",
    "    test_outputs = model.forward(test_data[:][0].to(device=device))\n",
    "    test_loss = loss_function(test_outputs,test_data[:][1].to(device=device))\n",
    "    loss_test = test_loss.detach().cpu()\n",
    "    print(f\"test loss is {test_loss}\")\n",
    "        \n",
    "  return [loss_train, loss_test]   \n",
    "\n",
    "\n",
    "\n",
    "def train_model(loss_function, optimizer, model, loader,train_data,test_data,epochs=25):\n",
    "  loss_ls = []\n",
    "  \n",
    "  for i in range(epochs):\n",
    "    print(f\"-----------------------Epoch: {i+1}----------------------------------\")\n",
    "\n",
    "    loss_ls.append(train_epoch(loss_function, optimizer, model, loader,train_data,test_data))\n",
    "    \n",
    "  return loss_ls"
   ]
  },
  {
   "cell_type": "code",
   "execution_count": 6,
   "metadata": {},
   "outputs": [
    {
     "name": "stdout",
     "output_type": "stream",
     "text": [
      "-----------------------Epoch: 1----------------------------------\n",
      "train loss is 1.1786425465663923\n",
      "test loss is 1.2093437809589431\n",
      "-----------------------Epoch: 2----------------------------------\n",
      "train loss is 1.1458509653257316\n",
      "test loss is 1.196833781144628\n",
      "-----------------------Epoch: 3----------------------------------\n",
      "train loss is 1.1348313525891829\n",
      "test loss is 1.1780075780364536\n",
      "-----------------------Epoch: 4----------------------------------\n",
      "train loss is 1.1279241532167141\n",
      "test loss is 1.1554960001639556\n",
      "-----------------------Epoch: 5----------------------------------\n",
      "train loss is 1.119249733793424\n",
      "test loss is 1.152577125710322\n",
      "-----------------------Epoch: 6----------------------------------\n",
      "train loss is 1.1139877870019048\n",
      "test loss is 1.152812797289545\n",
      "-----------------------Epoch: 7----------------------------------\n",
      "train loss is 1.1029705106227166\n",
      "test loss is 1.1295386320841436\n",
      "-----------------------Epoch: 8----------------------------------\n",
      "train loss is 1.099411463083069\n",
      "test loss is 1.1394138775220453\n",
      "-----------------------Epoch: 9----------------------------------\n",
      "train loss is 1.100483050366572\n",
      "test loss is 1.1366300671715124\n",
      "-----------------------Epoch: 10----------------------------------\n",
      "train loss is 1.092206846175677\n",
      "test loss is 1.1228121309288666\n",
      "-----------------------Epoch: 11----------------------------------\n",
      "train loss is 1.0874410008503146\n",
      "test loss is 1.1167476357379504\n",
      "-----------------------Epoch: 12----------------------------------\n",
      "train loss is 1.0928902762394224\n",
      "test loss is 1.122735647289268\n",
      "-----------------------Epoch: 13----------------------------------\n",
      "train loss is 1.0876905797807856\n",
      "test loss is 1.120473245192821\n",
      "-----------------------Epoch: 14----------------------------------\n",
      "train loss is 1.0885343681550836\n",
      "test loss is 1.1173917112696532\n",
      "-----------------------Epoch: 15----------------------------------\n",
      "train loss is 1.0872218455737588\n",
      "test loss is 1.1147599054836577\n",
      "-----------------------Epoch: 16----------------------------------\n",
      "train loss is 1.0877122168272695\n",
      "test loss is 1.1093281496436467\n",
      "-----------------------Epoch: 17----------------------------------\n",
      "train loss is 1.0849300283485968\n",
      "test loss is 1.1140387328376304\n",
      "-----------------------Epoch: 18----------------------------------\n",
      "train loss is 1.0832108293854343\n",
      "test loss is 1.1077068547397866\n",
      "-----------------------Epoch: 19----------------------------------\n",
      "train loss is 1.0825384783035656\n",
      "test loss is 1.1117966849294356\n",
      "-----------------------Epoch: 20----------------------------------\n",
      "train loss is 1.0805851049848874\n",
      "test loss is 1.116780860173664\n",
      "-----------------------Epoch: 21----------------------------------\n",
      "train loss is 1.0831729147405662\n",
      "test loss is 1.1092429456995165\n",
      "-----------------------Epoch: 22----------------------------------\n",
      "train loss is 1.0803126995539982\n",
      "test loss is 1.1063062997154824\n",
      "-----------------------Epoch: 23----------------------------------\n",
      "train loss is 1.0824760779534939\n",
      "test loss is 1.1041086206243251\n",
      "-----------------------Epoch: 24----------------------------------\n",
      "train loss is 1.080460676416642\n",
      "test loss is 1.1130394973555997\n",
      "-----------------------Epoch: 25----------------------------------\n",
      "train loss is 1.0779731562408994\n",
      "test loss is 1.1078553918152347\n",
      "-----------------------Epoch: 26----------------------------------\n",
      "train loss is 1.0770300029361717\n",
      "test loss is 1.1067593717990967\n",
      "-----------------------Epoch: 27----------------------------------\n",
      "train loss is 1.0777336379710554\n",
      "test loss is 1.108857939288941\n",
      "-----------------------Epoch: 28----------------------------------\n",
      "train loss is 1.0767570722472246\n",
      "test loss is 1.1007405245906245\n",
      "-----------------------Epoch: 29----------------------------------\n",
      "train loss is 1.0759438509213375\n",
      "test loss is 1.098689539786805\n",
      "-----------------------Epoch: 30----------------------------------\n",
      "train loss is 1.077054656732526\n",
      "test loss is 1.1029086151308896\n",
      "-----------------------Epoch: 31----------------------------------\n",
      "train loss is 1.0754969486180117\n",
      "test loss is 1.1020518575905833\n",
      "-----------------------Epoch: 32----------------------------------\n",
      "train loss is 1.079214566593567\n",
      "test loss is 1.104425729562575\n",
      "-----------------------Epoch: 33----------------------------------\n",
      "train loss is 1.0770079905910122\n",
      "test loss is 1.1107138979150557\n",
      "-----------------------Epoch: 34----------------------------------\n",
      "train loss is 1.0742730129953035\n",
      "test loss is 1.1115914901787238\n",
      "-----------------------Epoch: 35----------------------------------\n",
      "train loss is 1.0759942753500527\n",
      "test loss is 1.0979824338697568\n",
      "-----------------------Epoch: 36----------------------------------\n",
      "train loss is 1.0733223426221934\n",
      "test loss is 1.1053064009934566\n",
      "-----------------------Epoch: 37----------------------------------\n",
      "train loss is 1.0746273210689412\n",
      "test loss is 1.1041649841835024\n",
      "-----------------------Epoch: 38----------------------------------\n",
      "train loss is 1.071920367962401\n",
      "test loss is 1.095423614808924\n",
      "-----------------------Epoch: 39----------------------------------\n",
      "train loss is 1.0738153712991685\n",
      "test loss is 1.096723419634502\n",
      "-----------------------Epoch: 40----------------------------------\n",
      "train loss is 1.0713946345045569\n",
      "test loss is 1.1141967601325136\n",
      "-----------------------Epoch: 41----------------------------------\n",
      "train loss is 1.070557756137256\n",
      "test loss is 1.1069192830235777\n",
      "-----------------------Epoch: 42----------------------------------\n",
      "train loss is 1.0741562260902315\n",
      "test loss is 1.1070222921820905\n",
      "-----------------------Epoch: 43----------------------------------\n",
      "train loss is 1.0737263549311065\n",
      "test loss is 1.1038241975486054\n",
      "-----------------------Epoch: 44----------------------------------\n",
      "train loss is 1.0726368640362718\n",
      "test loss is 1.0952961658633291\n",
      "-----------------------Epoch: 45----------------------------------\n",
      "train loss is 1.0735879809714497\n",
      "test loss is 1.1037545793792267\n",
      "-----------------------Epoch: 46----------------------------------\n",
      "train loss is 1.0719634861377068\n",
      "test loss is 1.1025245189293567\n",
      "-----------------------Epoch: 47----------------------------------\n",
      "train loss is 1.0732399139191677\n",
      "test loss is 1.1012859293016004\n",
      "-----------------------Epoch: 48----------------------------------\n",
      "train loss is 1.0711040479478349\n",
      "test loss is 1.09807612258888\n",
      "-----------------------Epoch: 49----------------------------------\n",
      "train loss is 1.0714011755153985\n",
      "test loss is 1.0985063516323301\n",
      "-----------------------Epoch: 50----------------------------------\n",
      "train loss is 1.072290975136271\n",
      "test loss is 1.109925848985081\n"
     ]
    }
   ],
   "source": [
    "optim_Adam = torch.optim.Adam(net_test.parameters(),lr = 0.0001)\n",
    "epochs = 50\n",
    "loss_ls = train_model(loss_function=loss,optimizer=optim_Adam,model=net_test,loader=train_loader,train_data=train_set,\n",
    "                      test_data=test_set,epochs=epochs)"
   ]
  },
  {
   "cell_type": "code",
   "execution_count": 7,
   "metadata": {},
   "outputs": [
    {
     "data": {
      "image/png": "[encoded data removed]",
      "text/plain": [
       "<Figure size 640x480 with 1 Axes>"
      ]
     },
     "metadata": {},
     "output_type": "display_data"
    }
   ],
   "source": [
    "import matplotlib.pyplot as plt\n",
    "\n",
    "loss_array = np.array(loss_ls).reshape((2,epochs))\n",
    "\n",
    "plt.plot(range(1,len(loss_array[0])+1),loss_array[0],label = \"train\")\n",
    "plt.plot(range(1,len(loss_array[1])+1),loss_array[1],label= \"test\")\n",
    "plt.legend()\n",
    "plt.show()"
   ]
  },
  {
   "cell_type": "code",
   "execution_count": 8,
   "metadata": {},
   "outputs": [
    {
     "data": {
      "text/plain": [
       "0.33225806451612905"
      ]
     },
     "execution_count": 8,
     "metadata": {},
     "output_type": "execute_result"
    }
   ],
   "source": [
    "import torch.nn.functional as F\n",
    "from sklearn.metrics import accuracy_score\n",
    "\n",
    "net_test.to(device=torch.device(\"cpu\"))\n",
    "net_test.eval()\n",
    "\n",
    "predict_probability = torch.max(F.softmax(net_test(test_set[:][0]),dim=-1),dim=-1)[0]\n",
    "\n",
    "predict_results = torch.argmax(F.softmax(net_test(test_set[:][0]),dim=-1),dim=-1)\n",
    "real_results = test_set[:][1]\n",
    "\n",
    "accuracy_score(real_results,predict_results)"
   ]
  },
  {
   "cell_type": "code",
   "execution_count": 14,
   "metadata": {},
   "outputs": [
    {
     "data": {
      "text/plain": [
       "0.5714285714285714"
      ]
     },
     "execution_count": 14,
     "metadata": {},
     "output_type": "execute_result"
    }
   ],
   "source": [
    "act_predict_bool = (predict_results != 1) & (predict_probability > 0.38)\n",
    "\n",
    "act_predict_results = predict_results[act_predict_bool]\n",
    "act_real_results = real_results[act_predict_bool]\n",
    "\n",
    "accuracy_score(act_predict_results,act_real_results)"
   ]
  },
  {
   "cell_type": "code",
   "execution_count": 15,
   "metadata": {},
   "outputs": [
    {
     "data": {
      "text/plain": [
       "torch.Size([14])"
      ]
     },
     "execution_count": 15,
     "metadata": {},
     "output_type": "execute_result"
    }
   ],
   "source": [
    "act_predict_results.shape"
   ]
  },
  {
   "cell_type": "code",
   "execution_count": 16,
   "metadata": {},
   "outputs": [],
   "source": [
    "# saved_path = \"../trained_model/USDJPY_Mac_LSTM.pth\"\n",
    "\n",
    "# torch.save(net_test.state_dict(),saved_path )"
   ]
  }
 ],
 "metadata": {
  "kernelspec": {
   "display_name": "initial",
   "language": "python",
   "name": "python3"
  },
  "language_info": {
   "codemirror_mode": {
    "name": "ipython",
    "version": 3
   },
   "file_extension": ".py",
   "mimetype": "text/x-python",
   "name": "python",
   "nbconvert_exporter": "python",
   "pygments_lexer": "ipython3",
   "version": "3.12.2"
  }
 },
 "nbformat": 4,
 "nbformat_minor": 2
}
